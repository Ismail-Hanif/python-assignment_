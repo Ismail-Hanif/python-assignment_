{
 "cells": [
  {
   "cell_type": "code",
   "execution_count": null,
   "id": "6676782a-c7d2-46b3-b429-b0cc56cb899b",
   "metadata": {},
   "outputs": [
    {
     "name": "stdout",
     "output_type": "stream",
     "text": [
      "\n",
      "\n",
      "-----------------------------\n",
      "\tMenu Options:\n",
      "-----------------------------\n",
      "\n",
      "1. Calculate Speed\n",
      "2. Calculate Distance\n",
      "3. Calculate Time\n",
      "4. Exit\n",
      "\n",
      "\n",
      "\n"
     ]
    }
   ],
   "source": [
    "while True:\n",
    "    print(\"\\n\\n-----------------------------\")\n",
    "    print(\"\\tMenu Options:\")\n",
    "    print(\"-----------------------------\\n\")\n",
    "    print(\"1. Calculate Speed\")\n",
    "    print(\"2. Calculate Distance\")\n",
    "    print(\"3. Calculate Time\")\n",
    "    print(\"4. Exit\")\n",
    "    print(\"\\n\\n\")\n",
    "    choice = input(\"Enter your choice (1–4): \")\n",
    "\n",
    "    if choice == '1':\n",
    "        distance = float(input(\"Enter distance: \"))\n",
    "        time = float(input(\"Enter time: \"))\n",
    "        if distance > 0 and time > 0:\n",
    "            speed = distance / time\n",
    "            print(\"\\n\")\n",
    "            print(f\"Speed = {speed:.2f}\")\n",
    "        else:\n",
    "            print(\"Error: Distance and Time must be positive, and Time cannot be zero.\")\n",
    "\n",
    "    elif choice == '2':\n",
    "        speed = float(input(\"Enter speed: \"))\n",
    "        time = float(input(\"Enter time: \"))\n",
    "        if speed > 0 and time > 0:\n",
    "            distance = speed * time\n",
    "            print(f\"Distance = {distance:.2f}\")\n",
    "        else:\n",
    "            print(\"Error: Speed and Time must be positive.\")\n",
    "\n",
    "    elif choice == '3':\n",
    "        distance = float(input(\"Enter distance: \"))\n",
    "        speed = float(input(\"Enter speed: \"))\n",
    "        if distance > 0 and speed > 0:\n",
    "            time = distance / speed\n",
    "            print(f\"Time = {time:.2f}\")\n",
    "        else:\n",
    "            print(\"Error: Distance and Speed must be positive, and Speed cannot be zero.\")\n",
    "\n",
    "    elif choice == '4':\n",
    "        print(\"Goodbye!\")\n",
    "        break\n",
    "\n",
    "    else:\n",
    "        print(\"Invalid choice. Please select a number between 1 and 4.\")\n"
   ]
  },
  {
   "cell_type": "code",
   "execution_count": null,
   "id": "7e1b5a56-8b69-4093-a85f-2f713d512507",
   "metadata": {},
   "outputs": [],
   "source": []
  }
 ],
 "metadata": {
  "kernelspec": {
   "display_name": "Python 3 (ipykernel)",
   "language": "python",
   "name": "python3"
  },
  "language_info": {
   "codemirror_mode": {
    "name": "ipython",
    "version": 3
   },
   "file_extension": ".py",
   "mimetype": "text/x-python",
   "name": "python",
   "nbconvert_exporter": "python",
   "pygments_lexer": "ipython3",
   "version": "3.13.5"
  }
 },
 "nbformat": 4,
 "nbformat_minor": 5
}
