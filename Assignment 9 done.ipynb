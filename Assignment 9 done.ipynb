{
 "cells": [
  {
   "cell_type": "code",
   "execution_count": 6,
   "id": "75cd7e5e-23ae-4ffd-8274-680ced656792",
   "metadata": {},
   "outputs": [
    {
     "name": "stdin",
     "output_type": "stream",
     "text": [
      "Enter amount to withdraw:  10\n"
     ]
    },
    {
     "name": "stdout",
     "output_type": "stream",
     "text": [
      "Withdrawal successful. Remaining balance: 990.0\n",
      "Thank you for using the ATM.\n"
     ]
    }
   ],
   "source": [
    "balance = 1000\n",
    "try:\n",
    "    amount = input(\"Enter amount to withdraw: \")\n",
    "    amount = float(amount)\n",
    "\n",
    "    if amount <= 0:\n",
    "        print(\"Amount must be more than zero.\")\n",
    "    elif amount > balance:\n",
    "        print(\"Insufficient balance.\")\n",
    "    else:\n",
    "        balance =balance - amount\n",
    "        print(f\"Withdrawal successful. Remaining balance: {balance}\")\n",
    "except ValueError:\n",
    "    print(\"Please enter a valid number.\")\n",
    "\n",
    "else:\n",
    "    print(\"Thank you for using the ATM.\")\n"
   ]
  },
  {
   "cell_type": "code",
   "execution_count": 16,
   "id": "1edcf88d-d527-429c-a368-6f19ffaef1b4",
   "metadata": {},
   "outputs": [
    {
     "name": "stdin",
     "output_type": "stream",
     "text": [
      "How many tickets do you want to book?  67\n"
     ]
    },
    {
     "name": "stdout",
     "output_type": "stream",
     "text": [
      "Not enough seats available.\n",
      "Thank you for booking with us.\n"
     ]
    }
   ],
   "source": [
    "available_seats = 5\n",
    "\n",
    "try:\n",
    "    ticket = int(input(\"How many tickets do you want to book? \"))\n",
    "\n",
    "    if ticket <= 0:\n",
    "        print(\"You must book at least 1 ticket.\")\n",
    "    elif ticket > available_seats:\n",
    "        print(\"Not enough seats available.\")\n",
    "    else:\n",
    "        available_seats = available_seats - ticket\n",
    "        print(f\"{ticket} tickets booked successfully.\")\n",
    "except ValueError:\n",
    "    print(\"Please enter a valid number.\")\n",
    "else:\n",
    "    print(\"Thank you for booking with us.\")"
   ]
  },
  {
   "cell_type": "code",
   "execution_count": 20,
   "id": "df5f41f3-4c9b-4a14-bb1e-dde01765d0cf",
   "metadata": {},
   "outputs": [
    {
     "name": "stdin",
     "output_type": "stream",
     "text": [
      "Enter the number of items you want to buy:  five\n"
     ]
    },
    {
     "name": "stdout",
     "output_type": "stream",
     "text": [
      "Please enter a valid quantity.\n"
     ]
    }
   ],
   "source": [
    "\n",
    "\n",
    "\n",
    "try:\n",
    "    \n",
    "    quantity = int(input(\"Enter the number of items you want to buy: \"))\n",
    "    if quantity < 1:\n",
    "        print(\"You must buy at least one item.\")\n",
    "    else:\n",
    "        print(f\"You added {quantity} items to your cart.\")\n",
    "except ValueError:\n",
    "    print(\"Please enter a valid quantity.\")\n",
    "    "
   ]
  },
  {
   "cell_type": "code",
   "execution_count": 30,
   "id": "9299a48f-76c6-40e9-8efc-13e8aa5502b7",
   "metadata": {},
   "outputs": [
    {
     "name": "stdin",
     "output_type": "stream",
     "text": [
      "Enter a day number (1-7):  u\n"
     ]
    },
    {
     "name": "stdout",
     "output_type": "stream",
     "text": [
      "Please enter a valid number.\n"
     ]
    }
   ],
   "source": [
    "\n",
    "try:\n",
    "    day_input = int(input(\"Enter a day number (1-7): \"))\n",
    "\n",
    "    \n",
    "    days_of_week = {\n",
    "        1: \"Monday\",\n",
    "        2: \"Tuesday\",\n",
    "        3: \"Wednesday\",\n",
    "        4: \"Thursday\",\n",
    "        5: \"Friday\",\n",
    "        6: \"Saturday\",\n",
    "        7: \"Sunday\"\n",
    "    }\n",
    "\n",
    "    # Check if the number is within rang\n",
    "    if 1 <= day_input <= 7:\n",
    "        print(f\"Day is {days_of_week[day_input]}\")\n",
    "    else:\n",
    "        print(\"Please enter a number between 1 and 7.\")\n",
    "except ValueError:\n",
    "    print(\"Please enter a valid number.\")"
   ]
  },
  {
   "cell_type": "code",
   "execution_count": 38,
   "id": "ebf471af-0c6b-4a82-8005-281c5e7302d3",
   "metadata": {},
   "outputs": [
    {
     "name": "stdin",
     "output_type": "stream",
     "text": [
      "Enter the number of days late:  r\n"
     ]
    },
    {
     "name": "stdout",
     "output_type": "stream",
     "text": [
      "Please enter a valid number.\n"
     ]
    }
   ],
   "source": [
    "\n",
    "try:\n",
    "    days_late = int(input(\"Enter the number of days late: \"))\n",
    "\n",
    "    if days_late < 0:\n",
    "        print(\"Days late cannot be negative.\")\n",
    "    else:\n",
    "        fine = days_late * 0.50\n",
    "        \n",
    "except ValueError:\n",
    "    print(\"Please enter a valid number.\")\n",
    "\n",
    "else:\n",
    "    print(f\"Total fine: ${fine}\")"
   ]
  },
  {
   "cell_type": "code",
   "execution_count": 44,
   "id": "07abb147-48ee-415e-bc78-769674f6dcee",
   "metadata": {},
   "outputs": [
    {
     "name": "stdout",
     "output_type": "stream",
     "text": [
      "To Kill a Mockingbird\n",
      "Harper Lee\n",
      "1960\n"
     ]
    }
   ],
   "source": [
    "\n",
    "    def __init__(self, title, author, year):\n",
    "        self.title = title\n",
    "        self.author = author\n",
    "        self.year = year\n",
    "\n",
    "\n",
    "book1 = Book(\"To Kill a Mockingbird\", \"Harper Lee\", 1960)\n",
    "\n",
    "# Print the object's attribute values\n",
    "print(book1.title)\n",
    "print(book1.author)\n",
    "print(book1.year)"
   ]
  },
  {
   "cell_type": "code",
   "execution_count": 41,
   "id": "1e4eefba-8038-4732-ad5b-4b1bbfae62ca",
   "metadata": {},
   "outputs": [
    {
     "name": "stdout",
     "output_type": "stream",
     "text": [
      "'To Kill a Mockingbir' by Harper Lee, published in 1960.\n",
      "This is a book.\n"
     ]
    }
   ],
   "source": [
    "\n",
    "class Book:\n",
    "    def __init__(self, title, author, year):\n",
    "        self.title = title\n",
    "        self.author = author\n",
    "        self.year = year\n",
    "\n",
    "    def display_info(self):\n",
    "        print(f\"'{self.title}' by {self.author}, published in {self.year}.\")\n",
    "\n",
    "    def is_classic(self):\n",
    "        print(\"This is a book.\")\n",
    "\n",
    "\n",
    "\n",
    "book1 = Book(\"To Kill a Mockingbir\", \"Harper Lee\", 1960)\n",
    "\n",
    "\n",
    "book1.display_info()\n",
    "book1.is_classic()"
   ]
  },
  {
   "cell_type": "code",
   "execution_count": 46,
   "id": "2bff0938-f406-4c49-8a97-a393c7caf300",
   "metadata": {},
   "outputs": [
    {
     "name": "stdout",
     "output_type": "stream",
     "text": [
      "My name is Alice, I am 16 years old.\n",
      "My grade is A.\n"
     ]
    }
   ],
   "source": [
    "\n",
    "class Student:\n",
    "    def __init__(self, name, grade, age):\n",
    "        self.name = name\n",
    "        self.grade = grade\n",
    "        self.age = age\n",
    "\n",
    "    def introduce(self):\n",
    "        print(f\"My name is {self.name}, I am {self.age} years old.\")\n",
    "\n",
    "    def show_grade(self):\n",
    "        print(f\"My grade is {self.grade}.\")\n",
    "\n",
    "\n",
    "student1 = Student(\"Alice\", \"A\", 16)\n",
    "\n",
    "\n",
    "student1.introduce()\n",
    "student1.show_grade()"
   ]
  },
  {
   "cell_type": "code",
   "execution_count": 48,
   "id": "bb98ba27-2911-4833-b453-9ef69772b685",
   "metadata": {},
   "outputs": [
    {
     "name": "stdout",
     "output_type": "stream",
     "text": [
      "The light is now ON.\n",
      "The light is bright and working.\n"
     ]
    }
   ],
   "source": [
    "# Define the Light class\n",
    "class Light:\n",
    "    def turn_on(self):\n",
    "        print(\"The light is now ON.\")\n",
    "\n",
    "    def check_status(self):\n",
    "        print(\"The light is bright and working.\")\n",
    "\n",
    "light1 = Light()\n",
    "light1.turn_on()\n",
    "light1.check_status()\n"
   ]
  },
  {
   "cell_type": "code",
   "execution_count": 53,
   "id": "665a6018-597f-4b26-834f-2d3c02744383",
   "metadata": {},
   "outputs": [
    {
     "name": "stdin",
     "output_type": "stream",
     "text": [
      "Enter the parking slot number you want to reserve:  five\n"
     ]
    },
    {
     "name": "stdout",
     "output_type": "stream",
     "text": [
      "Invalid input. Please enter a valid slot number.\n"
     ]
    }
   ],
   "source": [
    "\n",
    "available_slots = [101, 102, 103, 104, 105]\n",
    "reserved = [106, 107, 108, 109, 110]\n",
    "\n",
    "\n",
    "slot_input = input(\"Enter the parking slot number you want to reserve: \")\n",
    "\n",
    "try:\n",
    "    slot = int(slot_input)\n",
    "\n",
    "    if slot in available_slots:\n",
    "        print(f\"Slot {slot} is reserved for you.\")\n",
    "    elif slot in reserved:\n",
    "        print(f\"Slot {slot} is already reserved by someone else.\")\n",
    "    else:\n",
    "        print(f\"Slot {slot} does not exist.\")\n",
    "except ValueError:\n",
    "    print(\"Invalid input. Please enter a valid slot number.\")"
   ]
  },
  {
   "cell_type": "code",
   "execution_count": null,
   "id": "dd15426e-d48b-4243-81cb-8fec7063f1bd",
   "metadata": {},
   "outputs": [],
   "source": []
  }
 ],
 "metadata": {
  "kernelspec": {
   "display_name": "Python 3 (ipykernel)",
   "language": "python",
   "name": "python3"
  },
  "language_info": {
   "codemirror_mode": {
    "name": "ipython",
    "version": 3
   },
   "file_extension": ".py",
   "mimetype": "text/x-python",
   "name": "python",
   "nbconvert_exporter": "python",
   "pygments_lexer": "ipython3",
   "version": "3.13.5"
  }
 },
 "nbformat": 4,
 "nbformat_minor": 5
}
