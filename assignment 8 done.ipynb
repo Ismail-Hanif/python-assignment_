{
 "cells": [
  {
   "cell_type": "code",
   "execution_count": 1,
   "id": "1bc94a2a-95ee-44d2-a0b3-5ece44aacde8",
   "metadata": {},
   "outputs": [],
   "source": [
    "def add_numbers(a, b):\n",
    "    return a + b"
   ]
  },
  {
   "cell_type": "code",
   "execution_count": 3,
   "id": "a388cf2e-92c1-4a11-a885-31af1c809b71",
   "metadata": {},
   "outputs": [
    {
     "data": {
      "text/plain": [
       "8"
      ]
     },
     "execution_count": 3,
     "metadata": {},
     "output_type": "execute_result"
    }
   ],
   "source": [
    "add_numbers(3,5)"
   ]
  },
  {
   "cell_type": "code",
   "execution_count": 4,
   "id": "01eacb6a-a25e-44c0-a7f7-2c4e42462e47",
   "metadata": {},
   "outputs": [
    {
     "data": {
      "text/plain": [
       "4"
      ]
     },
     "execution_count": 4,
     "metadata": {},
     "output_type": "execute_result"
    }
   ],
   "source": [
    "add_numbers(1,3)"
   ]
  },
  {
   "cell_type": "code",
   "execution_count": 5,
   "id": "c96ecab6-c013-4e51-9ba2-8794b0142906",
   "metadata": {},
   "outputs": [],
   "source": [
    "def count_vowels(s):\n",
    "    vowels = 'aeiouAEIOU'\n",
    "    count = 0\n",
    "    for char in s:\n",
    "        if char in vowels:\n",
    "            count += 1\n",
    "    return count"
   ]
  },
  {
   "cell_type": "code",
   "execution_count": 8,
   "id": "55519b82-513c-49aa-8b9f-1c2895d08674",
   "metadata": {},
   "outputs": [
    {
     "data": {
      "text/plain": [
       "3"
      ]
     },
     "execution_count": 8,
     "metadata": {},
     "output_type": "execute_result"
    }
   ],
   "source": [
    "count_vowels(\"welcome\")"
   ]
  },
  {
   "cell_type": "code",
   "execution_count": 12,
   "id": "4c7b0f2b-47b2-4036-bc43-f74c3e624976",
   "metadata": {},
   "outputs": [
    {
     "data": {
      "text/plain": [
       "2"
      ]
     },
     "execution_count": 12,
     "metadata": {},
     "output_type": "execute_result"
    }
   ],
   "source": [
    "count_vowels(\"apple\")"
   ]
  },
  {
   "cell_type": "code",
   "execution_count": 14,
   "id": "346773da-3342-46e8-bb4d-33ee466f0abf",
   "metadata": {},
   "outputs": [],
   "source": [
    "def currency_converter(amount, exchange_rate=280):\n",
    "    converted_amount = amount * exchange_rate\n",
    "    print(f\"{amount} USD is equivalent to {converted_amount} PKR\")"
   ]
  },
  {
   "cell_type": "code",
   "execution_count": 15,
   "id": "2e36df47-cac2-4bf5-a584-71cbb246d4b1",
   "metadata": {},
   "outputs": [
    {
     "name": "stdout",
     "output_type": "stream",
     "text": [
      "20 USD is equivalent to 5600 PKR\n"
     ]
    }
   ],
   "source": [
    "currency_converter(20)"
   ]
  },
  {
   "cell_type": "code",
   "execution_count": 16,
   "id": "abc3e5c2-0b05-428b-8460-674d8d461689",
   "metadata": {},
   "outputs": [
    {
     "name": "stdout",
     "output_type": "stream",
     "text": [
      "100 USD is equivalent to 28000 PKR\n"
     ]
    }
   ],
   "source": [
    "currency_converter(100)"
   ]
  },
  {
   "cell_type": "code",
   "execution_count": 21,
   "id": "7fc6e641-dc23-4f19-b4c6-89ee68ddab48",
   "metadata": {},
   "outputs": [],
   "source": [
    "def display_student_info(name, age, grade, school):\n",
    "    print(f\"Name: {name}\")\n",
    "    print(f\"Age: {age}\")\n",
    "    print(f\"Grade: {grade}\")\n",
    "    print(f\"School: {school}\")\n",
    "\n",
    "\n",
    "\n"
   ]
  },
  {
   "cell_type": "code",
   "execution_count": 22,
   "id": "98eeb7af-1ec1-48d6-87c1-326ea8f53595",
   "metadata": {},
   "outputs": [
    {
     "name": "stdout",
     "output_type": "stream",
     "text": [
      "Name: John Doe\n",
      "Age: 15\n",
      "Grade: 10th\n",
      "School: Greenwood High\n"
     ]
    }
   ],
   "source": [
    "display_student_info(name=\"John Doe\", age=15, grade=\"10th\", school=\"Greenwood High\")"
   ]
  },
  {
   "cell_type": "code",
   "execution_count": 23,
   "id": "e931647f-bd29-49bd-93f3-1a8b75ff3a30",
   "metadata": {},
   "outputs": [],
   "source": [
    "def calculate_price(price, quantity):\n",
    "    return price * quantity"
   ]
  },
  {
   "cell_type": "code",
   "execution_count": 26,
   "id": "10866964-fbe7-4f85-9eb8-3d27d009fa12",
   "metadata": {},
   "outputs": [
    {
     "data": {
      "text/plain": [
       "12000"
      ]
     },
     "execution_count": 26,
     "metadata": {},
     "output_type": "execute_result"
    }
   ],
   "source": [
    "calculate_price(200,60)"
   ]
  },
  {
   "cell_type": "code",
   "execution_count": 29,
   "id": "f0d5ecfc-4cb6-4d06-9033-b57506de197a",
   "metadata": {},
   "outputs": [],
   "source": [
    "def display_prices(product, **prices):\n",
    "    print(f\"Product: {product}\")\n",
    "    for store, price in prices.items():\n",
    "        print(f\"{store}: ${price}\")"
   ]
  },
  {
   "cell_type": "code",
   "execution_count": 30,
   "id": "8d151903-3446-4673-afa6-021951531392",
   "metadata": {},
   "outputs": [
    {
     "name": "stdout",
     "output_type": "stream",
     "text": [
      "Product: Laptop\n",
      "Amazon: $800\n",
      "eBay: $750\n",
      "Walmart: $780\n"
     ]
    }
   ],
   "source": [
    "display_prices(\"Laptop\", Amazon=800, eBay=750, Walmart=780)"
   ]
  },
  {
   "cell_type": "code",
   "execution_count": 31,
   "id": "5f749d60-bac7-405e-bc16-6b54920ecedc",
   "metadata": {},
   "outputs": [
    {
     "data": {
      "text/plain": [
       "'No numbers provided'"
      ]
     },
     "execution_count": 31,
     "metadata": {},
     "output_type": "execute_result"
    }
   ],
   "source": [
    "def find_max(*args):\n",
    "    if not args:\n",
    "        return \"No numbers provided\"\n",
    "    return max(args)\n",
    "find_max()"
   ]
  },
  {
   "cell_type": "code",
   "execution_count": 37,
   "id": "c51f2d6e-dcec-47cc-ba7b-ea8852152c8d",
   "metadata": {},
   "outputs": [
    {
     "data": {
      "text/plain": [
       "89"
      ]
     },
     "execution_count": 37,
     "metadata": {},
     "output_type": "execute_result"
    }
   ],
   "source": [
    "find_max(34,33,56,65,76,89)"
   ]
  },
  {
   "cell_type": "code",
   "execution_count": 39,
   "id": "b6001955-8e51-4ebf-93b1-928dd5f26e20",
   "metadata": {},
   "outputs": [
    {
     "data": {
      "text/plain": [
       "(35, 24)"
      ]
     },
     "execution_count": 39,
     "metadata": {},
     "output_type": "execute_result"
    }
   ],
   "source": [
    "def calculate_rectangle(length, width):\n",
    "    def calculate_area():\n",
    "        return length * width\n",
    "\n",
    "    def calculate_perimeter():\n",
    "        return 2 * (length + width)\n",
    "\n",
    "    area = calculate_area()\n",
    "    perimeter = calculate_perimeter()\n",
    "\n",
    "    return area, perimeter\n",
    "calculate_rectangle(5,7)"
   ]
  },
  {
   "cell_type": "code",
   "execution_count": 40,
   "id": "8d4aa8ed-c78a-4f25-912b-ec078cefe18a",
   "metadata": {},
   "outputs": [
    {
     "data": {
      "text/plain": [
       "2000"
      ]
     },
     "execution_count": 40,
     "metadata": {},
     "output_type": "execute_result"
    }
   ],
   "source": [
    "def taxi_fare(distance, rate=100):\n",
    "    fare = distance * rate\n",
    "    return fare\n",
    "taxi_fare(20)"
   ]
  },
  {
   "cell_type": "code",
   "execution_count": 41,
   "id": "0d50af66-bb5a-485e-9d59-da97a02e79f1",
   "metadata": {},
   "outputs": [
    {
     "data": {
      "text/plain": [
       "3000"
      ]
     },
     "execution_count": 41,
     "metadata": {},
     "output_type": "execute_result"
    }
   ],
   "source": [
    "taxi_fare(10,300)"
   ]
  },
  {
   "cell_type": "code",
   "execution_count": 44,
   "id": "92c7dfaa-cd80-44f1-9db6-d9005929fe69",
   "metadata": {},
   "outputs": [
    {
     "data": {
      "text/plain": [
       "900"
      ]
     },
     "execution_count": 44,
     "metadata": {},
     "output_type": "execute_result"
    }
   ],
   "source": [
    "def shopping_bill(price, quantity, discount=0):\n",
    "    def calculate_total():\n",
    "        return price * quantity\n",
    "\n",
    "    def apply_discount(total):\n",
    "        final_amount = total - discount\n",
    "        return final_amount if final_amount > 0 else 0\n",
    "\n",
    "    total = calculate_total()\n",
    "    final_bill = apply_discount(total)\n",
    "    return final_bill\n",
    "shopping_bill(20,45)"
   ]
  },
  {
   "cell_type": "code",
   "execution_count": 45,
   "id": "36bcacb5-8b23-4287-9a22-0b55f6fcaaf2",
   "metadata": {},
   "outputs": [
    {
     "data": {
      "text/plain": [
       "800"
      ]
     },
     "execution_count": 45,
     "metadata": {},
     "output_type": "execute_result"
    }
   ],
   "source": [
    "shopping_bill(20,45,100)"
   ]
  },
  {
   "cell_type": "code",
   "execution_count": null,
   "id": "2e09e476-760a-48b8-8952-ff8ef8c1be74",
   "metadata": {},
   "outputs": [],
   "source": []
  },
  {
   "cell_type": "code",
   "execution_count": null,
   "id": "233338d0-9073-4133-ac8f-ba12e29c0c38",
   "metadata": {},
   "outputs": [],
   "source": []
  }
 ],
 "metadata": {
  "kernelspec": {
   "display_name": "Python 3 (ipykernel)",
   "language": "python",
   "name": "python3"
  },
  "language_info": {
   "codemirror_mode": {
    "name": "ipython",
    "version": 3
   },
   "file_extension": ".py",
   "mimetype": "text/x-python",
   "name": "python",
   "nbconvert_exporter": "python",
   "pygments_lexer": "ipython3",
   "version": "3.13.5"
  }
 },
 "nbformat": 4,
 "nbformat_minor": 5
}
