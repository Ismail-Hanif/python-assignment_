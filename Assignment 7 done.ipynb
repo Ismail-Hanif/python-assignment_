{
 "cells": [
  {
   "cell_type": "code",
   "execution_count": 3,
   "id": "9a7c1d57-d96e-45d4-96c0-b2e269c82b1c",
   "metadata": {},
   "outputs": [
    {
     "name": "stdout",
     "output_type": "stream",
     "text": [
      "1 3 5 7 9 11 13 15 17 19 "
     ]
    }
   ],
   "source": [
    "i = 1\n",
    "while i <= 20:\n",
    "    if i % 2 == 0:\n",
    "        i += 1\n",
    "        continue\n",
    "    print(i, end=' ')\n",
    "    i += 1"
   ]
  },
  {
   "cell_type": "code",
   "execution_count": 8,
   "id": "1bc57e9e-8662-47f5-9370-b89ca4e99189",
   "metadata": {},
   "outputs": [
    {
     "name": "stdin",
     "output_type": "stream",
     "text": [
      "Enter a number   5\n"
     ]
    },
    {
     "name": "stdout",
     "output_type": "stream",
     "text": [
      "You entered: 5\n"
     ]
    },
    {
     "name": "stdin",
     "output_type": "stream",
     "text": [
      "Enter a number   10\n"
     ]
    },
    {
     "name": "stdout",
     "output_type": "stream",
     "text": [
      "You entered: 10\n"
     ]
    },
    {
     "name": "stdin",
     "output_type": "stream",
     "text": [
      "Enter a number   -3\n"
     ]
    },
    {
     "name": "stdout",
     "output_type": "stream",
     "text": [
      "Negative number entered. Loop stopped!\n"
     ]
    }
   ],
   "source": [
    "while True:\n",
    "    # Ask the user to enter a number\n",
    "    num = int(input(\"Enter a number  \"))\n",
    "    \n",
    "    if num < 0:\n",
    "        print(\"Negative number entered. Loop stopped!\")\n",
    "        break  \n",
    "    \n",
    "    \n",
    "    print(\"You entered:\", num)"
   ]
  },
  {
   "cell_type": "code",
   "execution_count": 10,
   "id": "9e0302fd-ab23-4d60-a4ef-4b1a7e8552ab",
   "metadata": {},
   "outputs": [
    {
     "name": "stdin",
     "output_type": "stream",
     "text": [
      "Guess the word:  java\n",
      "Guess the word:  ruby\n",
      "Guess the word:  python\n"
     ]
    },
    {
     "name": "stdout",
     "output_type": "stream",
     "text": [
      " You guessed it!\n"
     ]
    }
   ],
   "source": [
    "guess = \"\"\n",
    "while guess != \"python\":\n",
    "    guess = input(\"Guess the word: \")\n",
    "\n",
    "print(\" You guessed it!\")"
   ]
  },
  {
   "cell_type": "code",
   "execution_count": 13,
   "id": "d7fafcf2-cfe0-483b-a4cf-969bdde97795",
   "metadata": {},
   "outputs": [],
   "source": [
    "orders = [\n",
    "    {\"order_id\": 1, \"customer\": \"Ali\", \"items\": [120, 80, 50]},\n",
    "    {\"order_id\": 2, \"customer\": \"Sara\", \"items\": [200, 150]},\n",
    "    {\"order_id\": 3, \"customer\": \"Raheel\", \"items\": [90, 60, 40, 30]},\n",
    "    {\"order_id\": 4, \"customer\": \"Naveed\", \"items\": [300]},\n",
    "]"
   ]
  },
  {
   "cell_type": "code",
   "execution_count": 14,
   "id": "6a7575d4-30fd-4dcf-bd1d-a119253b43e1",
   "metadata": {},
   "outputs": [
    {
     "name": "stdout",
     "output_type": "stream",
     "text": [
      "Order ID: 1 Customer: Ali\n",
      "Item Price: 120\n",
      "Item Price: 80\n",
      "Item Price: 50\n",
      "Order ID: 2 Customer: Sara\n",
      "Item Price: 200\n",
      "Item Price: 150\n",
      "Order ID: 3 Customer: Raheel\n",
      "Item Price: 90\n",
      "Item Price: 60\n",
      "Item Price: 40\n",
      "Item Price: 30\n",
      "Order ID: 4 Customer: Naveed\n",
      "Item Price: 300\n"
     ]
    }
   ],
   "source": [
    "i = 0\n",
    "while i < len(orders):\n",
    "    order = orders[i]\n",
    "    print(\"Order ID:\", order[\"order_id\"], \"Customer:\", order[\"customer\"])\n",
    "    \n",
    "    j = 0\n",
    "    items = order[\"items\"]\n",
    "    while j < len(items):\n",
    "        print(\"Item Price:\", items[j])\n",
    "        j += 1\n",
    "    \n",
    "    i += 1"
   ]
  },
  {
   "cell_type": "code",
   "execution_count": 15,
   "id": "c46db029-3ede-4196-8195-13d9b6ba677c",
   "metadata": {},
   "outputs": [],
   "source": [
    "orders = [\n",
    "    {\"order_id\": 1, \"customer\": \"Ali\", \"items\": [120, 80, 50]},\n",
    "    {\"order_id\": 2, \"customer\": \"Sara\", \"items\": [200, 150]},\n",
    "    {\"order_id\": 3, \"customer\": \"Raheel\", \"items\": [90, 60, 40, 30]},\n",
    "    {\"order_id\": 4, \"customer\": \"Naveed\", \"items\": [300]},\n",
    "]"
   ]
  },
  {
   "cell_type": "code",
   "execution_count": 17,
   "id": "35bc54a8-6ce9-4aa4-8e06-f455518305cd",
   "metadata": {},
   "outputs": [
    {
     "name": "stdout",
     "output_type": "stream",
     "text": [
      "Ali spent total: 250\n",
      " \n",
      "Sara spent total: 350\n",
      " \n",
      "Raheel spent total: 220\n",
      " \n",
      "Naveed spent total: 300\n",
      " \n"
     ]
    }
   ],
   "source": [
    "i = 0\n",
    "while i < len(orders):\n",
    "    order = orders[i]\n",
    "    customer_name = order[\"customer\"]\n",
    "    items = order[\"items\"]\n",
    "\n",
    "    total = 0  \n",
    "\n",
    "    j = 0\n",
    "    while j < len(items):\n",
    "        total += items[j]\n",
    "        j += 1\n",
    "\n",
    "    print(customer_name, \"spent total:\", total)\n",
    "\n",
    "    i += 1\n",
    "    print(' ')"
   ]
  },
  {
   "cell_type": "code",
   "execution_count": 18,
   "id": "2e39a814-6088-425a-b146-06239f82c8d5",
   "metadata": {},
   "outputs": [],
   "source": [
    "orderss = [ {\"order_id\": 1, \"customer\": \"Ali\", \"items\": [120, 80, 50]}, {\"order_id\": 2, \"customer\": \"Sara\", \"items\": [200, 150]}, {\"order_id\": 3, \"customer\": \"Raheel\", \"items\": [90, 60, 40, 30]}, {\"order_id\": 4, \"customer\": \"Naveed\", \"items\": [300]}, ]"
   ]
  },
  {
   "cell_type": "code",
   "execution_count": 19,
   "id": "b1bc6bd8-123b-498d-bde5-9922ebcbc3e7",
   "metadata": {},
   "outputs": [
    {
     "name": "stdout",
     "output_type": "stream",
     "text": [
      "Most expensive item in Order 1 = 120\n",
      "Most expensive item in Order 2 = 200\n",
      "Most expensive item in Order 3 = 90\n",
      "Most expensive item in Order 4 = 300\n"
     ]
    }
   ],
   "source": [
    "i = 0\n",
    "while i < len(orderss):\n",
    "    order = orderss[i]\n",
    "    items = order[\"items\"]\n",
    "    \n",
    "   \n",
    "    max_price = items[0]\n",
    "    \n",
    "    j = 1  \n",
    "    while j < len(items):\n",
    "        if items[j] > max_price:\n",
    "            max_price = items[j]\n",
    "        j += 1\n",
    "\n",
    "    print(\"Most expensive item in Order\", order[\"order_id\"], \"=\", max_price)\n",
    "    \n",
    "    i += 1"
   ]
  },
  {
   "cell_type": "code",
   "execution_count": 20,
   "id": "12f0cebd-edd3-40e5-b0b9-706aabb1becd",
   "metadata": {},
   "outputs": [
    {
     "name": "stdout",
     "output_type": "stream",
     "text": [
      "Multiples of 5 and 10 from 1 to 50: [10, 20, 30, 40, 50]\n"
     ]
    }
   ],
   "source": [
    "multiples = [num for num in range(1, 51) if num % 5 == 0 and num % 10 == 0]\n",
    "print(\"Multiples of 5 and 10 from 1 to 50:\", multiples)"
   ]
  },
  {
   "cell_type": "code",
   "execution_count": 21,
   "id": "03e080d8-9de1-4eb7-8ae1-86cd47034a5d",
   "metadata": {},
   "outputs": [],
   "source": [
    "employees = [ {\"emp_id\": 1, \"name\": \"Ali\", \"dept\": \"Sales\", \"salary\": 50000, \"experience\": 2}, {\"emp_id\": 2, \"name\": \"Sara\", \"dept\": \"IT\", \"salary\": 65000, \"experience\": 5}, {\"emp_id\": 3, \"name\": \"Raheel\", \"dept\": \"HR\", \"salary\": 45000, \"experience\": 1}, {\"emp_id\": 4, \"name\": \"Naveed\", \"dept\": \"Finance\", \"salary\": 70000, \"experience\": 7}, {\"emp_id\": 5, \"name\": \"Ayesha\", \"dept\": \"IT\", \"salary\": 72000, \"experience\": 6}, {\"emp_id\": 6, \"name\": \"Talha\", \"dept\": \"Sales\", \"salary\": 55000, \"experience\": 3}, {\"emp_id\": 7, \"name\": \"Sana\", \"dept\": \"Finance\", \"salary\": 80000, \"experience\": 8}, {\"emp_id\": 8, \"name\": \"Hina\", \"dept\": \"HR\", \"salary\": 48000, \"experience\": 2}, ]"
   ]
  },
  {
   "cell_type": "code",
   "execution_count": 22,
   "id": "af8d89f7-4a10-41cb-bd4b-448e186c24c8",
   "metadata": {},
   "outputs": [
    {
     "name": "stdout",
     "output_type": "stream",
     "text": [
      "['Naveed', 'Ayesha', 'Sana']\n"
     ]
    }
   ],
   "source": [
    "high_paid_experienced = [emp[\"name\"] for emp in employees if emp[\"salary\"] > 60000 and emp[\"experience\"] > 5]\n",
    "\n",
    "print(high_paid_experienced)"
   ]
  },
  {
   "cell_type": "code",
   "execution_count": 23,
   "id": "fb3fa00c-4b95-4b7c-90d4-6a28ff288429",
   "metadata": {},
   "outputs": [
    {
     "name": "stdout",
     "output_type": "stream",
     "text": [
      "['Ali', 'Sara', 'Naveed', 'Ayesha', 'Talha', 'Sana']\n"
     ]
    }
   ],
   "source": [
    "not_hr_employees = [emp[\"name\"] for emp in employees if emp[\"dept\"] != \"HR\"]\n",
    "\n",
    "print(not_hr_employees)"
   ]
  },
  {
   "cell_type": "code",
   "execution_count": null,
   "id": "6af861ce-be51-443c-996d-cc050d99a413",
   "metadata": {},
   "outputs": [],
   "source": [
    "filtered_employees = [\n",
    "    emp[\"name\"] for emp in employees \n",
    "    if emp[\"dept\"] != \"Sales\" or emp[\"experience\"] > 5\n",
    "]\n",
    "\n",
    "print(filtered_employees)"
   ]
  }
 ],
 "metadata": {
  "kernelspec": {
   "display_name": "Python 3 (ipykernel)",
   "language": "python",
   "name": "python3"
  },
  "language_info": {
   "codemirror_mode": {
    "name": "ipython",
    "version": 3
   },
   "file_extension": ".py",
   "mimetype": "text/x-python",
   "name": "python",
   "nbconvert_exporter": "python",
   "pygments_lexer": "ipython3",
   "version": "3.13.5"
  }
 },
 "nbformat": 4,
 "nbformat_minor": 5
}
